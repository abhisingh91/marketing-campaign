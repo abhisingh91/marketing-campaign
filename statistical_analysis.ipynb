{
 "cells": [
  {
   "cell_type": "code",
   "execution_count": 307,
   "metadata": {},
   "outputs": [],
   "source": [
    "import pandas as pd\n",
    "import numpy as np\n",
    "import matplotlib.pyplot as plt\n",
    "import seaborn as sns\n",
    "from scipy.stats import ttest_ind, chi2_contingency"
   ]
  },
  {
   "cell_type": "code",
   "execution_count": 308,
   "metadata": {},
   "outputs": [],
   "source": [
    "data = pd.read_csv('marketing_campaign.csv')"
   ]
  },
  {
   "cell_type": "code",
   "execution_count": 309,
   "metadata": {},
   "outputs": [
    {
     "data": {
      "text/html": [
       "<div>\n",
       "<style scoped>\n",
       "    .dataframe tbody tr th:only-of-type {\n",
       "        vertical-align: middle;\n",
       "    }\n",
       "\n",
       "    .dataframe tbody tr th {\n",
       "        vertical-align: top;\n",
       "    }\n",
       "\n",
       "    .dataframe thead th {\n",
       "        text-align: right;\n",
       "    }\n",
       "</style>\n",
       "<table border=\"1\" class=\"dataframe\">\n",
       "  <thead>\n",
       "    <tr style=\"text-align: right;\">\n",
       "      <th></th>\n",
       "      <th>Customer_ID</th>\n",
       "      <th>Age</th>\n",
       "      <th>Purchase_Cmp_A</th>\n",
       "      <th>Purchase_Cmp_B</th>\n",
       "    </tr>\n",
       "  </thead>\n",
       "  <tbody>\n",
       "    <tr>\n",
       "      <th>count</th>\n",
       "      <td>1000.000000</td>\n",
       "      <td>1000.000000</td>\n",
       "      <td>1000.000000</td>\n",
       "      <td>1000.000000</td>\n",
       "    </tr>\n",
       "    <tr>\n",
       "      <th>mean</th>\n",
       "      <td>500.500000</td>\n",
       "      <td>36.624000</td>\n",
       "      <td>0.497000</td>\n",
       "      <td>0.442000</td>\n",
       "    </tr>\n",
       "    <tr>\n",
       "      <th>std</th>\n",
       "      <td>288.819436</td>\n",
       "      <td>6.913785</td>\n",
       "      <td>0.500241</td>\n",
       "      <td>0.496873</td>\n",
       "    </tr>\n",
       "    <tr>\n",
       "      <th>min</th>\n",
       "      <td>1.000000</td>\n",
       "      <td>18.000000</td>\n",
       "      <td>0.000000</td>\n",
       "      <td>0.000000</td>\n",
       "    </tr>\n",
       "    <tr>\n",
       "      <th>25%</th>\n",
       "      <td>250.750000</td>\n",
       "      <td>32.000000</td>\n",
       "      <td>0.000000</td>\n",
       "      <td>0.000000</td>\n",
       "    </tr>\n",
       "    <tr>\n",
       "      <th>50%</th>\n",
       "      <td>500.500000</td>\n",
       "      <td>36.000000</td>\n",
       "      <td>0.000000</td>\n",
       "      <td>0.000000</td>\n",
       "    </tr>\n",
       "    <tr>\n",
       "      <th>75%</th>\n",
       "      <td>750.250000</td>\n",
       "      <td>41.000000</td>\n",
       "      <td>1.000000</td>\n",
       "      <td>1.000000</td>\n",
       "    </tr>\n",
       "    <tr>\n",
       "      <th>max</th>\n",
       "      <td>1000.000000</td>\n",
       "      <td>65.000000</td>\n",
       "      <td>1.000000</td>\n",
       "      <td>1.000000</td>\n",
       "    </tr>\n",
       "  </tbody>\n",
       "</table>\n",
       "</div>"
      ],
      "text/plain": [
       "       Customer_ID          Age  Purchase_Cmp_A  Purchase_Cmp_B\n",
       "count  1000.000000  1000.000000     1000.000000     1000.000000\n",
       "mean    500.500000    36.624000        0.497000        0.442000\n",
       "std     288.819436     6.913785        0.500241        0.496873\n",
       "min       1.000000    18.000000        0.000000        0.000000\n",
       "25%     250.750000    32.000000        0.000000        0.000000\n",
       "50%     500.500000    36.000000        0.000000        0.000000\n",
       "75%     750.250000    41.000000        1.000000        1.000000\n",
       "max    1000.000000    65.000000        1.000000        1.000000"
      ]
     },
     "execution_count": 309,
     "metadata": {},
     "output_type": "execute_result"
    }
   ],
   "source": [
    "data.describe()"
   ]
  },
  {
   "cell_type": "code",
   "execution_count": 310,
   "metadata": {},
   "outputs": [
    {
     "data": {
      "text/html": [
       "<div>\n",
       "<style scoped>\n",
       "    .dataframe tbody tr th:only-of-type {\n",
       "        vertical-align: middle;\n",
       "    }\n",
       "\n",
       "    .dataframe tbody tr th {\n",
       "        vertical-align: top;\n",
       "    }\n",
       "\n",
       "    .dataframe thead th {\n",
       "        text-align: right;\n",
       "    }\n",
       "</style>\n",
       "<table border=\"1\" class=\"dataframe\">\n",
       "  <thead>\n",
       "    <tr style=\"text-align: right;\">\n",
       "      <th></th>\n",
       "      <th>Gender</th>\n",
       "    </tr>\n",
       "  </thead>\n",
       "  <tbody>\n",
       "    <tr>\n",
       "      <th>count</th>\n",
       "      <td>1000</td>\n",
       "    </tr>\n",
       "    <tr>\n",
       "      <th>unique</th>\n",
       "      <td>2</td>\n",
       "    </tr>\n",
       "    <tr>\n",
       "      <th>top</th>\n",
       "      <td>Female</td>\n",
       "    </tr>\n",
       "    <tr>\n",
       "      <th>freq</th>\n",
       "      <td>512</td>\n",
       "    </tr>\n",
       "  </tbody>\n",
       "</table>\n",
       "</div>"
      ],
      "text/plain": [
       "        Gender\n",
       "count     1000\n",
       "unique       2\n",
       "top     Female\n",
       "freq       512"
      ]
     },
     "execution_count": 310,
     "metadata": {},
     "output_type": "execute_result"
    }
   ],
   "source": [
    "data.describe(include='object')"
   ]
  },
  {
   "cell_type": "markdown",
   "metadata": {},
   "source": [
    "##### p-value: Tells, how likely the observed results are due to a random chance"
   ]
  },
  {
   "cell_type": "code",
   "execution_count": 311,
   "metadata": {},
   "outputs": [],
   "source": [
    "# create a function to get to a conclusion of accepting or rejecting null hypothesis based on p-value\n",
    "\n",
    "def get_p_value_based_conclusion(p_value, alpha=0.05):\n",
    "    if p_value <= alpha:\n",
    "        print('Reject the null hypothesis')  # Reject the null hypothesis\n",
    "    else:\n",
    "        print('Falied to reject the null hypothesis')  # Fail to reject the null hypothesis"
   ]
  },
  {
   "cell_type": "code",
   "execution_count": 312,
   "metadata": {},
   "outputs": [
    {
     "data": {
      "text/html": [
       "<div>\n",
       "<style scoped>\n",
       "    .dataframe tbody tr th:only-of-type {\n",
       "        vertical-align: middle;\n",
       "    }\n",
       "\n",
       "    .dataframe tbody tr th {\n",
       "        vertical-align: top;\n",
       "    }\n",
       "\n",
       "    .dataframe thead th {\n",
       "        text-align: right;\n",
       "    }\n",
       "</style>\n",
       "<table border=\"1\" class=\"dataframe\">\n",
       "  <thead>\n",
       "    <tr style=\"text-align: right;\">\n",
       "      <th></th>\n",
       "      <th>Customer_ID</th>\n",
       "      <th>Age</th>\n",
       "      <th>Gender</th>\n",
       "      <th>Purchase_Cmp_A</th>\n",
       "      <th>Purchase_Cmp_B</th>\n",
       "    </tr>\n",
       "  </thead>\n",
       "  <tbody>\n",
       "    <tr>\n",
       "      <th>0</th>\n",
       "      <td>1</td>\n",
       "      <td>27</td>\n",
       "      <td>Female</td>\n",
       "      <td>0</td>\n",
       "      <td>1</td>\n",
       "    </tr>\n",
       "    <tr>\n",
       "      <th>1</th>\n",
       "      <td>2</td>\n",
       "      <td>35</td>\n",
       "      <td>Male</td>\n",
       "      <td>1</td>\n",
       "      <td>0</td>\n",
       "    </tr>\n",
       "    <tr>\n",
       "      <th>2</th>\n",
       "      <td>3</td>\n",
       "      <td>40</td>\n",
       "      <td>Male</td>\n",
       "      <td>0</td>\n",
       "      <td>0</td>\n",
       "    </tr>\n",
       "    <tr>\n",
       "      <th>3</th>\n",
       "      <td>4</td>\n",
       "      <td>42</td>\n",
       "      <td>Female</td>\n",
       "      <td>0</td>\n",
       "      <td>0</td>\n",
       "    </tr>\n",
       "    <tr>\n",
       "      <th>4</th>\n",
       "      <td>5</td>\n",
       "      <td>38</td>\n",
       "      <td>Male</td>\n",
       "      <td>0</td>\n",
       "      <td>0</td>\n",
       "    </tr>\n",
       "  </tbody>\n",
       "</table>\n",
       "</div>"
      ],
      "text/plain": [
       "   Customer_ID  Age  Gender  Purchase_Cmp_A  Purchase_Cmp_B\n",
       "0            1   27  Female               0               1\n",
       "1            2   35    Male               1               0\n",
       "2            3   40    Male               0               0\n",
       "3            4   42  Female               0               0\n",
       "4            5   38    Male               0               0"
      ]
     },
     "execution_count": 312,
     "metadata": {},
     "output_type": "execute_result"
    }
   ],
   "source": [
    "data.head()"
   ]
  },
  {
   "cell_type": "code",
   "execution_count": 313,
   "metadata": {},
   "outputs": [],
   "source": [
    "def create_hist_plots(distribution1, distribution2, title1, title2, color1, color2):\n",
    "    plt.figure(figsize=(10, 3))\n",
    "\n",
    "    plt.subplot(1, 2, 1)\n",
    "    plt.title(title1)\n",
    "    sns.histplot(distribution1, bins=15, color=color1, alpha=0.5)\n",
    "\n",
    "    plt.subplot(1, 2, 2)\n",
    "    plt.title(title2)\n",
    "    sns.histplot(distribution2, bins=15, color=color2, alpha=0.5)\n",
    "\n",
    "    plt.tight_layout()\n",
    "    plt.show()"
   ]
  },
  {
   "cell_type": "markdown",
   "metadata": {},
   "source": [
    "## t-tests"
   ]
  },
  {
   "cell_type": "markdown",
   "metadata": {},
   "source": [
    "#### 1. Compare ages of purchasers in individual campaigns"
   ]
  },
  {
   "cell_type": "code",
   "execution_count": 314,
   "metadata": {},
   "outputs": [
    {
     "data": {
      "image/png": "[encoded data removed]",
      "text/plain": [
       "<Figure size 1000x300 with 2 Axes>"
      ]
     },
     "metadata": {},
     "output_type": "display_data"
    }
   ],
   "source": [
    "age_purchasers_cmp_A = data[data['Purchase_Cmp_A'] == 1]['Age']\n",
    "age_purchasers_cmp_B = data[data['Purchase_Cmp_B'] == 1]['Age']\n",
    "\n",
    "create_hist_plots(age_purchasers_cmp_A, age_purchasers_cmp_B, 'Purchasers Campaign A', 'Purchasers Campaign B', 'green', 'red')"
   ]
  },
  {
   "cell_type": "markdown",
   "metadata": {},
   "source": [
    "<p style='color: lightgray; font-size: 16px'>\n",
    "H0: No significant difference between the ages <br>\n",
    "H1: There is a significant difference between ages\n",
    "</p>"
   ]
  },
  {
   "cell_type": "code",
   "execution_count": 315,
   "metadata": {},
   "outputs": [
    {
     "name": "stdout",
     "output_type": "stream",
     "text": [
      "Purchasers in Campaign A and B:\n",
      " t-statistic: -2.1191626647576856\n",
      " p-value: 0.034339226888781646\n"
     ]
    }
   ],
   "source": [
    "# perform t-test\n",
    "\n",
    "t_stat_purchasers, p_value_purchasers = ttest_ind(age_purchasers_cmp_A, age_purchasers_cmp_B)\n",
    "print(f\"Purchasers in Campaign A and B:\\n t-statistic: {t_stat_purchasers}\\n p-value: {p_value_purchasers}\")"
   ]
  },
  {
   "cell_type": "code",
   "execution_count": 316,
   "metadata": {},
   "outputs": [
    {
     "name": "stdout",
     "output_type": "stream",
     "text": [
      "Reject the null hypothesis\n"
     ]
    }
   ],
   "source": [
    "get_p_value_based_conclusion(p_value_purchasers)"
   ]
  },
  {
   "cell_type": "markdown",
   "metadata": {},
   "source": [
    "<span style='color: #1fd178'>Conclusion: </span>The mean age of Purchasers in Campaign A is significantly lower than the Purchasers in Campaign B"
   ]
  },
  {
   "cell_type": "markdown",
   "metadata": {},
   "source": [
    "#### 2. Compare ages of those who made a purchase in Campaign A and those who didn't"
   ]
  },
  {
   "cell_type": "code",
   "execution_count": 317,
   "metadata": {},
   "outputs": [
    {
     "data": {
      "image/png": "[encoded data removed]",
      "text/plain": [
       "<Figure size 1000x300 with 2 Axes>"
      ]
     },
     "metadata": {},
     "output_type": "display_data"
    }
   ],
   "source": [
    "age_purchasers_cmp_A = data[data['Purchase_Cmp_A'] == 1]['Age']\n",
    "age_non_purchasers_cmp_A = data[data['Purchase_Cmp_A'] == 0]['Age']\n",
    "\n",
    "create_hist_plots(age_purchasers_cmp_A, age_non_purchasers_cmp_A, 'Purchasers', 'Non-Purchasers', 'blue', 'darkorange')"
   ]
  },
  {
   "cell_type": "markdown",
   "metadata": {},
   "source": [
    "<p style='color: lightgray; font-size: 16px'>\n",
    "H0: No significant difference between the ages <br>\n",
    "H1: There is a significant difference between ages\n",
    "</p>"
   ]
  },
  {
   "cell_type": "code",
   "execution_count": 318,
   "metadata": {},
   "outputs": [
    {
     "name": "stdout",
     "output_type": "stream",
     "text": [
      "Age by Purchase in Campaign A:\n",
      " t-statistic: -2.385206157472269\n",
      " p-value: 0.017255354410829073\n"
     ]
    }
   ],
   "source": [
    "t_stat_purchase_A, p_value_purchase_A = ttest_ind(age_purchasers_cmp_A, age_non_purchasers_cmp_A)\n",
    "print(f\"Age by Purchase in Campaign A:\\n t-statistic: {t_stat_purchase_A}\\n p-value: {p_value_purchase_A}\")"
   ]
  },
  {
   "cell_type": "code",
   "execution_count": 319,
   "metadata": {},
   "outputs": [
    {
     "name": "stdout",
     "output_type": "stream",
     "text": [
      "Reject the null hypothesis\n"
     ]
    }
   ],
   "source": [
    "get_p_value_based_conclusion(p_value_purchase_A)"
   ]
  },
  {
   "cell_type": "markdown",
   "metadata": {},
   "source": [
    "<span style='color: #1fd178'>Conclusion: </span>The mean age of Purchasers is significantly lower than Non-Purchasers in Campaign A"
   ]
  },
  {
   "cell_type": "markdown",
   "metadata": {},
   "source": [
    "#### 3. Compare ages of those who made a purchase in Campaign B and those who didn't"
   ]
  },
  {
   "cell_type": "code",
   "execution_count": 320,
   "metadata": {},
   "outputs": [
    {
     "data": {
      "image/png": "[encoded data removed]",
      "text/plain": [
       "<Figure size 1000x300 with 2 Axes>"
      ]
     },
     "metadata": {},
     "output_type": "display_data"
    }
   ],
   "source": [
    "age_purchasers_cmp_B = data[data['Purchase_Cmp_B'] == 1]['Age']\n",
    "age_non_purchasers_cmp_B = data[data['Purchase_Cmp_B'] == 0]['Age']\n",
    "\n",
    "create_hist_plots(age_purchasers_cmp_B, age_non_purchasers_cmp_B, 'Purchasers', 'Non-Purchasers', 'blue', 'darkorange')"
   ]
  },
  {
   "cell_type": "markdown",
   "metadata": {},
   "source": [
    "<p style='color: lightgray; font-size: 16px'>\n",
    "H0: No significant difference between the ages <br>\n",
    "H1: There is a significant difference between ages\n",
    "</p>"
   ]
  },
  {
   "cell_type": "code",
   "execution_count": 321,
   "metadata": {},
   "outputs": [
    {
     "name": "stdout",
     "output_type": "stream",
     "text": [
      "Age by Purchase in Campaign B:\n",
      " t-statistic: 1.8552255813328962\n",
      " p-value: 0.06385873245274262\n"
     ]
    }
   ],
   "source": [
    "t_stat_purchase_B, p_value_purchase_B = ttest_ind(age_purchasers_cmp_B, age_non_purchasers_cmp_B)\n",
    "print(f\"Age by Purchase in Campaign B:\\n t-statistic: {t_stat_purchase_B}\\n p-value: {p_value_purchase_B}\")"
   ]
  },
  {
   "cell_type": "code",
   "execution_count": 322,
   "metadata": {},
   "outputs": [
    {
     "name": "stdout",
     "output_type": "stream",
     "text": [
      "Falied to reject the null hypothesis\n"
     ]
    }
   ],
   "source": [
    "get_p_value_based_conclusion(p_value_purchase_B)"
   ]
  },
  {
   "cell_type": "markdown",
   "metadata": {},
   "source": [
    "<span style='color: #1fd178'>Conclusion: </span>There is no significant difference between mean ages of Purchasers and Non-Purchasers in Campaign B"
   ]
  },
  {
   "cell_type": "markdown",
   "metadata": {},
   "source": [
    "## Chi-square Tests"
   ]
  },
  {
   "cell_type": "markdown",
   "metadata": {},
   "source": [
    "#### 1. Check association between purchases in Campaign A and Campaign B"
   ]
  },
  {
   "cell_type": "code",
   "execution_count": 323,
   "metadata": {},
   "outputs": [
    {
     "data": {
      "text/plain": [
       "<Axes: xlabel='Purchase_Cmp_B', ylabel='Purchase_Cmp_A'>"
      ]
     },
     "execution_count": 323,
     "metadata": {},
     "output_type": "execute_result"
    },
    {
     "data": {
      "image/png": "[encoded data removed]",
      "text/plain": [
       "<Figure size 600x150 with 2 Axes>"
      ]
     },
     "metadata": {},
     "output_type": "display_data"
    }
   ],
   "source": [
    "# create contigency table for purchases in both campaigns\n",
    "purchase_cmp_ct = pd.crosstab(data['Purchase_Cmp_A'], data['Purchase_Cmp_B'])\n",
    "\n",
    "sns.set(rc={'figure.figsize': (6, 1.5)})\n",
    "sns.heatmap(purchase_cmp_ct, annot=True, cmap='YlOrRd')"
   ]
  },
  {
   "cell_type": "markdown",
   "metadata": {},
   "source": [
    "<p style='color: lightgray; font-size: 16px'>\n",
    "H0: There is no significant difference in the customers for both campaigns <br>\n",
    "H1: There is a significant difference in the customers\n",
    "</p>"
   ]
  },
  {
   "cell_type": "code",
   "execution_count": 324,
   "metadata": {},
   "outputs": [
    {
     "name": "stdout",
     "output_type": "stream",
     "text": [
      "Chi2 statistic (χ2) : 0.16339283295208637, p-value: 0.6860518350440997, Degree of freedom: 1\n"
     ]
    }
   ],
   "source": [
    "# perform chi-square test\n",
    "chi2_stat_purchase, p_value_purchase, dof_purchase, expected_purchase = chi2_contingency(purchase_cmp_ct)\n",
    "print(f\"Chi2 statistic (χ2) : {chi2_stat_purchase}, p-value: {p_value_purchase}, Degree of freedom: {dof_purchase}\")"
   ]
  },
  {
   "cell_type": "code",
   "execution_count": 325,
   "metadata": {},
   "outputs": [
    {
     "name": "stdout",
     "output_type": "stream",
     "text": [
      "Falied to reject the null hypothesis\n"
     ]
    }
   ],
   "source": [
    "get_p_value_based_conclusion(p_value_purchase)"
   ]
  },
  {
   "cell_type": "markdown",
   "metadata": {},
   "source": [
    "<span style='color: #1fd178'>Conclusion: </span>There is no association between purchases in both campaigns "
   ]
  },
  {
   "cell_type": "markdown",
   "metadata": {},
   "source": [
    "#### 2. Check if there is an association between gender and purchases in Campaign A"
   ]
  },
  {
   "cell_type": "code",
   "execution_count": 326,
   "metadata": {},
   "outputs": [
    {
     "data": {
      "text/plain": [
       "<Axes: xlabel='Purchase_Cmp_A', ylabel='Gender'>"
      ]
     },
     "execution_count": 326,
     "metadata": {},
     "output_type": "execute_result"
    },
    {
     "data": {
      "image/png": "[encoded data removed]",
      "text/plain": [
       "<Figure size 600x150 with 2 Axes>"
      ]
     },
     "metadata": {},
     "output_type": "display_data"
    }
   ],
   "source": [
    "# create contigency table\n",
    "gender_cmp_A_ct = pd.crosstab(data['Gender'], data['Purchase_Cmp_A'])\n",
    "\n",
    "sns.set(rc={'figure.figsize': (6, 1.5)})\n",
    "sns.heatmap(gender_cmp_A_ct, annot=True, cmap='Greens')"
   ]
  },
  {
   "cell_type": "markdown",
   "metadata": {},
   "source": [
    "<p style='color: lightgray; font-size: 16px'>\n",
    "H0: No association between gender and purchases in campaign A <br>\n",
    "H1: There is an association between gender and purchases in Campaign A \n",
    "</p>"
   ]
  },
  {
   "cell_type": "code",
   "execution_count": 327,
   "metadata": {},
   "outputs": [
    {
     "name": "stdout",
     "output_type": "stream",
     "text": [
      "Chi2 statistic (χ2) : 4.080085663821602, p-value: 0.04339145891831287, Degree of freedom: 1\n"
     ]
    }
   ],
   "source": [
    "# perform chi-square test\n",
    "\n",
    "chi2_stat_gender_A, p_value_gender_A, dof_gender_A, expected_gender_A = chi2_contingency(gender_cmp_A_ct)\n",
    "print(f\"Chi2 statistic (χ2) : {chi2_stat_gender_A}, p-value: {p_value_gender_A}, Degree of freedom: {dof_gender_A}\")"
   ]
  },
  {
   "cell_type": "code",
   "execution_count": 328,
   "metadata": {},
   "outputs": [
    {
     "name": "stdout",
     "output_type": "stream",
     "text": [
      "Reject the null hypothesis\n"
     ]
    }
   ],
   "source": [
    "get_p_value_based_conclusion(p_value_gender_A)"
   ]
  },
  {
   "cell_type": "markdown",
   "metadata": {},
   "source": [
    "<span style='color: #1fd178'>Conclusion: </span>Males were likely to make a purchase while Females were less likely to make a purchase in campaign B"
   ]
  },
  {
   "cell_type": "markdown",
   "metadata": {},
   "source": [
    "#### 3. Check if there is an association between gender and purchases in Campaign B"
   ]
  },
  {
   "cell_type": "code",
   "execution_count": 329,
   "metadata": {},
   "outputs": [
    {
     "data": {
      "text/plain": [
       "<Axes: xlabel='Purchase_Cmp_B', ylabel='Gender'>"
      ]
     },
     "execution_count": 329,
     "metadata": {},
     "output_type": "execute_result"
    },
    {
     "data": {
      "image/png": "[encoded data removed]",
      "text/plain": [
       "<Figure size 600x150 with 2 Axes>"
      ]
     },
     "metadata": {},
     "output_type": "display_data"
    }
   ],
   "source": [
    "# create contigency table\n",
    "gender_cmp_B_ct = pd.crosstab(data['Gender'], data['Purchase_Cmp_B'])\n",
    "\n",
    "sns.set(rc={'figure.figsize': (6, 1.5)})\n",
    "sns.heatmap(gender_cmp_B_ct, annot=True, cmap='Reds')"
   ]
  },
  {
   "cell_type": "markdown",
   "metadata": {},
   "source": [
    "<p style='color: lightgray; font-size: 16px'>\n",
    "H0: No association between gender and purchases in campaign B <br>\n",
    "H1: There is an association between gender and purchases in Campaign B\n",
    "</p>"
   ]
  },
  {
   "cell_type": "code",
   "execution_count": 330,
   "metadata": {},
   "outputs": [
    {
     "name": "stdout",
     "output_type": "stream",
     "text": [
      "Chi2 statistic (χ2) : 5.143857394693148, p-value: 0.02332875795903681, Degree of freedom: 1\n"
     ]
    }
   ],
   "source": [
    "# perform chi-square test\n",
    "chi2_stat_gender_B, p_value_gender_B, dof_gender_B, expected_gender_B = chi2_contingency(gender_cmp_B_ct)\n",
    "print(f\"Chi2 statistic (χ2) : {chi2_stat_gender_B}, p-value: {p_value_gender_B}, Degree of freedom: {dof_gender_B}\")"
   ]
  },
  {
   "cell_type": "code",
   "execution_count": 331,
   "metadata": {},
   "outputs": [
    {
     "name": "stdout",
     "output_type": "stream",
     "text": [
      "Reject the null hypothesis\n"
     ]
    }
   ],
   "source": [
    "get_p_value_based_conclusion(p_value_gender_B)"
   ]
  },
  {
   "cell_type": "markdown",
   "metadata": {},
   "source": [
    "<span style='color: #1fd178'>Conclusion: </span>Females were less likely to make a purchase in the Campaign B"
   ]
  }
 ],
 "metadata": {
  "kernelspec": {
   "display_name": "Python 3.10.6 ('venv': venv)",
   "language": "python",
   "name": "python3"
  },
  "language_info": {
   "codemirror_mode": {
    "name": "ipython",
    "version": 3
   },
   "file_extension": ".py",
   "mimetype": "text/x-python",
   "name": "python",
   "nbconvert_exporter": "python",
   "pygments_lexer": "ipython3",
   "version": "3.10.6"
  },
  "orig_nbformat": 4,
  "vscode": {
   "interpreter": {
    "hash": "ec0e890b954293f34d16d4c104a129e3912c28c5e75cee8491611edc427a31d8"
   }
  }
 },
 "nbformat": 4,
 "nbformat_minor": 2
}
